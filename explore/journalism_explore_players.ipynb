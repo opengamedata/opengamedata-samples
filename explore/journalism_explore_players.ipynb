{
  "nbformat": 4,
  "nbformat_minor": 0,
  "metadata": {
    "colab": {
      "provenance": []
    },
    "kernelspec": {
      "name": "python3",
      "display_name": "Python 3"
    },
    "language_info": {
      "name": "python"
    }
  },
  "cells": [
    {
      "cell_type": "code",
      "execution_count": 1,
      "metadata": {
        "id": "gjJXFAuqd9cf"
      },
      "outputs": [],
      "source": [
        "# Standard Libraries\n",
        "import shutil\n",
        "import urllib.request as urlrequest\n",
        "from collections import Counter\n",
        "from pathlib import Path\n",
        "from pprint import pprint\n",
        "from zipfile import ZipFile\n",
        "import zipfile\n",
        "from datetime import datetime\n",
        "from dateutil import parser\n",
        "import datetime\n",
        "import ast\n",
        "import json\n",
        "# 3rd-party Libraries\n",
        "import ipywidgets as widgets\n",
        "import matplotlib.pyplot as plt\n",
        "import numpy as np\n",
        "import pandas as pd\n",
        "import plotly.graph_objects as go\n",
        "import plotly.offline as pyo\n",
        "import seaborn as sns\n",
        "#from OGDUtils.general.fileio import FileAPI, FileTypes\n",
        "pd.set_option('display.max_columns', None)\n",
        "pd.set_option('display.max_rows', None)"
      ]
    },
    {
      "cell_type": "markdown",
      "source": [
        "#Retrieve Data Files\n",
        "## Please change the settings below to configure which game/server location you want to use.\n",
        "\n",
        "\n",
        "*   game_id : The game whose data you want to access.\n",
        "*   mode : The kind of data you want to retrieve. Should be one of FileTypes.PLAYER, FileTypes.POPULATION, FileTypes.SESSION, FileTypes.EVENTS or FileTypes.ALL_EVENTS\n",
        "\n"
      ],
      "metadata": {
        "id": "M31AIyuwBylK"
      }
    },
    {
      "cell_type": "code",
      "source": [
        "game_id = 'JOURNALISM'\n",
        "mode    = FileTypes.PLAYER"
      ],
      "metadata": {
        "id": "Kc4yzM3vCYAI"
      },
      "execution_count": null,
      "outputs": []
    },
    {
      "cell_type": "code",
      "source": [
        "months_list = FileAPI.GetAvailableMonths(game_id)\n",
        "print(f\"The available months are:\")\n",
        "pprint(months_list, compact=True)"
      ],
      "metadata": {
        "id": "PCGK8vcfCYSz"
      },
      "execution_count": null,
      "outputs": []
    },
    {
      "cell_type": "code",
      "source": [
        "month = 2\n",
        "year = 2023\n",
        "\n",
        "# download the file if it doesn't exist.\n",
        "# zip_file, dataset_name = FileAPI.DownloadZippedDataset(game_id, month, year, mode)\n",
        "# zip_name = zip_file.filename"
      ],
      "metadata": {
        "id": "SOMtMI0fCYcY"
      },
      "execution_count": null,
      "outputs": []
    },
    {
      "cell_type": "code",
      "source": [
        "raw_data = pd.DataFrame()\n",
        "\n",
        "###\n",
        "#  To use file(s) from website, uncomment the lines in previous cell and delete these.\n",
        "file_path = 'JOURNALISM_20230401_to_20230425_7e4c492_player-features.zip'\n",
        "dataset_name = 'JOURNALISM_20230401_to_20230425'\n",
        "zip_file = ZipFile(file_path)\n",
        "zip_name = zip_file.filename\n",
        "###\n",
        "\n",
        "MAX_ROWS = 10000 # for the sake of not overwhelming RAM, only read first 10,000 rows of a file. Feel free to increase\n",
        "\n",
        "# Open TSV from the zip file.\n",
        "tsv_name = f\"{zip_name[:zip_name.rfind('.')]}.tsv\"\n",
        "with zip_file.open(f\"{dataset_name}/{tsv_name}\") as tsv_file:\n",
        "    raw_data = pd.read_csv(tsv_file, sep='\\t', nrows=MAX_ROWS)\n",
        "    data_readme = zip_file.read(f\"{dataset_name}/readme.md\")\n",
        "zip_file.close()"
      ],
      "metadata": {
        "id": "LWuHa9yTChgD"
      },
      "execution_count": null,
      "outputs": []
    },
    {
      "cell_type": "code",
      "source": [
        "# def read_file(file_path):\n",
        "#     if file_path.endswith('.zip'):\n",
        "#         with zipfile.ZipFile(file_path, 'r') as zfile:\n",
        "#             tsv_files = [f for f in zfile.namelist() if f.endswith('.tsv')]\n",
        "#             if len(tsv_files) == 0:\n",
        "#                 raise ValueError(\"No TSV files found in the zip file.\")\n",
        "#             elif len(tsv_files) > 1:\n",
        "#                 raise ValueError(\"Zip file must contain exactly one TSV file.\")\n",
        "\n",
        "#             with zfile.open(tsv_files[0]) as file:\n",
        "#                 df = pd.read_csv(file, sep='\\t')\n",
        "#     elif file_path.endswith('.tsv'):\n",
        "#         df = pd.read_csv(file_path, sep='\\t')\n",
        "#     else:\n",
        "#         raise ValueError(\"Unsupported file format. Only .zip and .tsv files are supported.\")\n",
        "\n",
        "#     return df\n",
        "\n",
        "\n",
        "# file_path = 'JOURNALISM_20230401_to_20230425_7e4c492_player-features.zip'  # Replace with your file path\n",
        "# raw_data = read_file(file_path)\n"
      ],
      "metadata": {
        "id": "m8S4JmmbeLu4",
        "colab": {
          "base_uri": "https://localhost:8080/",
          "height": 331
        },
        "outputId": "d9648a24-96d2-4635-9ff5-793dd281a44a"
      },
      "execution_count": 2,
      "outputs": [
        {
          "output_type": "error",
          "ename": "FileNotFoundError",
          "evalue": "ignored",
          "traceback": [
            "\u001b[0;31m---------------------------------------------------------------------------\u001b[0m",
            "\u001b[0;31mFileNotFoundError\u001b[0m                         Traceback (most recent call last)",
            "\u001b[0;32m<ipython-input-2-6589935668d5>\u001b[0m in \u001b[0;36m<cell line: 21>\u001b[0;34m()\u001b[0m\n\u001b[1;32m     19\u001b[0m \u001b[0;34m\u001b[0m\u001b[0m\n\u001b[1;32m     20\u001b[0m \u001b[0mfile_path\u001b[0m \u001b[0;34m=\u001b[0m \u001b[0;34m'JOURNALISM_20230401_to_20230425_7e4c492_player-features.zip'\u001b[0m  \u001b[0;31m# Replace with your file path\u001b[0m\u001b[0;34m\u001b[0m\u001b[0;34m\u001b[0m\u001b[0m\n\u001b[0;32m---> 21\u001b[0;31m \u001b[0mraw_data\u001b[0m \u001b[0;34m=\u001b[0m \u001b[0mread_file\u001b[0m\u001b[0;34m(\u001b[0m\u001b[0mfile_path\u001b[0m\u001b[0;34m)\u001b[0m\u001b[0;34m\u001b[0m\u001b[0;34m\u001b[0m\u001b[0m\n\u001b[0m",
            "\u001b[0;32m<ipython-input-2-6589935668d5>\u001b[0m in \u001b[0;36mread_file\u001b[0;34m(file_path)\u001b[0m\n\u001b[1;32m      1\u001b[0m \u001b[0;32mdef\u001b[0m \u001b[0mread_file\u001b[0m\u001b[0;34m(\u001b[0m\u001b[0mfile_path\u001b[0m\u001b[0;34m)\u001b[0m\u001b[0;34m:\u001b[0m\u001b[0;34m\u001b[0m\u001b[0;34m\u001b[0m\u001b[0m\n\u001b[1;32m      2\u001b[0m     \u001b[0;32mif\u001b[0m \u001b[0mfile_path\u001b[0m\u001b[0;34m.\u001b[0m\u001b[0mendswith\u001b[0m\u001b[0;34m(\u001b[0m\u001b[0;34m'.zip'\u001b[0m\u001b[0;34m)\u001b[0m\u001b[0;34m:\u001b[0m\u001b[0;34m\u001b[0m\u001b[0;34m\u001b[0m\u001b[0m\n\u001b[0;32m----> 3\u001b[0;31m         \u001b[0;32mwith\u001b[0m \u001b[0mzipfile\u001b[0m\u001b[0;34m.\u001b[0m\u001b[0mZipFile\u001b[0m\u001b[0;34m(\u001b[0m\u001b[0mfile_path\u001b[0m\u001b[0;34m,\u001b[0m \u001b[0;34m'r'\u001b[0m\u001b[0;34m)\u001b[0m \u001b[0;32mas\u001b[0m \u001b[0mzfile\u001b[0m\u001b[0;34m:\u001b[0m\u001b[0;34m\u001b[0m\u001b[0;34m\u001b[0m\u001b[0m\n\u001b[0m\u001b[1;32m      4\u001b[0m             \u001b[0mtsv_files\u001b[0m \u001b[0;34m=\u001b[0m \u001b[0;34m[\u001b[0m\u001b[0mf\u001b[0m \u001b[0;32mfor\u001b[0m \u001b[0mf\u001b[0m \u001b[0;32min\u001b[0m \u001b[0mzfile\u001b[0m\u001b[0;34m.\u001b[0m\u001b[0mnamelist\u001b[0m\u001b[0;34m(\u001b[0m\u001b[0;34m)\u001b[0m \u001b[0;32mif\u001b[0m \u001b[0mf\u001b[0m\u001b[0;34m.\u001b[0m\u001b[0mendswith\u001b[0m\u001b[0;34m(\u001b[0m\u001b[0;34m'.tsv'\u001b[0m\u001b[0;34m)\u001b[0m\u001b[0;34m]\u001b[0m\u001b[0;34m\u001b[0m\u001b[0;34m\u001b[0m\u001b[0m\n\u001b[1;32m      5\u001b[0m             \u001b[0;32mif\u001b[0m \u001b[0mlen\u001b[0m\u001b[0;34m(\u001b[0m\u001b[0mtsv_files\u001b[0m\u001b[0;34m)\u001b[0m \u001b[0;34m==\u001b[0m \u001b[0;36m0\u001b[0m\u001b[0;34m:\u001b[0m\u001b[0;34m\u001b[0m\u001b[0;34m\u001b[0m\u001b[0m\n",
            "\u001b[0;32m/usr/lib/python3.10/zipfile.py\u001b[0m in \u001b[0;36m__init__\u001b[0;34m(self, file, mode, compression, allowZip64, compresslevel, strict_timestamps)\u001b[0m\n\u001b[1;32m   1249\u001b[0m             \u001b[0;32mwhile\u001b[0m \u001b[0;32mTrue\u001b[0m\u001b[0;34m:\u001b[0m\u001b[0;34m\u001b[0m\u001b[0;34m\u001b[0m\u001b[0m\n\u001b[1;32m   1250\u001b[0m                 \u001b[0;32mtry\u001b[0m\u001b[0;34m:\u001b[0m\u001b[0;34m\u001b[0m\u001b[0;34m\u001b[0m\u001b[0m\n\u001b[0;32m-> 1251\u001b[0;31m                     \u001b[0mself\u001b[0m\u001b[0;34m.\u001b[0m\u001b[0mfp\u001b[0m \u001b[0;34m=\u001b[0m \u001b[0mio\u001b[0m\u001b[0;34m.\u001b[0m\u001b[0mopen\u001b[0m\u001b[0;34m(\u001b[0m\u001b[0mfile\u001b[0m\u001b[0;34m,\u001b[0m \u001b[0mfilemode\u001b[0m\u001b[0;34m)\u001b[0m\u001b[0;34m\u001b[0m\u001b[0;34m\u001b[0m\u001b[0m\n\u001b[0m\u001b[1;32m   1252\u001b[0m                 \u001b[0;32mexcept\u001b[0m \u001b[0mOSError\u001b[0m\u001b[0;34m:\u001b[0m\u001b[0;34m\u001b[0m\u001b[0;34m\u001b[0m\u001b[0m\n\u001b[1;32m   1253\u001b[0m                     \u001b[0;32mif\u001b[0m \u001b[0mfilemode\u001b[0m \u001b[0;32min\u001b[0m \u001b[0mmodeDict\u001b[0m\u001b[0;34m:\u001b[0m\u001b[0;34m\u001b[0m\u001b[0;34m\u001b[0m\u001b[0m\n",
            "\u001b[0;31mFileNotFoundError\u001b[0m: [Errno 2] No such file or directory: 'JOURNALISM_20230401_to_20230425_7e4c492_player-features.zip'"
          ]
        }
      ]
    },
    {
      "cell_type": "code",
      "source": [
        "df_session = raw_data.dropna()\n",
        "for col in df_session.columns:\n",
        "    dtype = df_session[col].dtype\n",
        "    if dtype == bool:\n",
        "        # convert the boolean column to integer (1 for True and 0 for False)\n",
        "        df_session[col] = df_session[col].astype(int)\n",
        "\n",
        "def convert_to_seconds(time_str):\n",
        "    try:\n",
        "        time_obj = datetime.datetime.strptime(time_str, '%H:%M:%S.%f').time()\n",
        "        timedelta_obj = datetime.timedelta(hours=time_obj.hour, minutes=time_obj.minute, seconds=time_obj.second, microseconds=time_obj.microsecond)\n",
        "        return timedelta_obj.total_seconds()\n",
        "    except ValueError:\n",
        "        return None\n",
        "\n",
        "df_session['UserPlayTime'] = df_session['UserPlayTime'].apply(convert_to_seconds)\n",
        "df_session['UserPlayTime-Total Time'] = df_session['UserPlayTime-Total Time'].apply(convert_to_seconds)\n"
      ],
      "metadata": {
        "id": "Ih3FEr-lel0c"
      },
      "execution_count": null,
      "outputs": []
    },
    {
      "cell_type": "code",
      "source": [
        "quit_types = sorted(df_session['QuitType'].unique())\n",
        "fig, axs = plt.subplots(5, 1, figsize=(6, 20))\n",
        "\n",
        "bins = 3\n",
        "x_ticks = np.arange(len(quit_types))\n",
        "x_tick_labels = quit_types\n",
        "\n",
        "for i, ax in enumerate(axs):\n",
        "    fail_level = i + 1\n",
        "    fail_data = df_session[df_session[f'lvl{fail_level}_FailureCount'] > 0]\n",
        "    df_column = fail_data['QuitType']\n",
        "    quit_type_counts = df_column.value_counts().reindex(quit_types, fill_value=0)\n",
        "    print(quit_type_counts)\n",
        "    ax.bar(x_ticks, quit_type_counts, align='center')\n",
        "    ax.set_title(f\"Lvl {fail_level} Quit Type\")\n",
        "\n",
        "    ax.set_xticks(x_ticks)\n",
        "    ax.set_xticklabels(x_tick_labels)\n",
        "\n",
        "fig.tight_layout()\n",
        "plt.show()"
      ],
      "metadata": {
        "id": "VTE-7RsFe-J_"
      },
      "execution_count": null,
      "outputs": []
    },
    {
      "cell_type": "code",
      "source": [
        "plt.hist(df_session['UserPlayTime'], bins=10)\n",
        "plt.axvline(x=df_session['UserPlayTime'].mean(), color='red', linestyle='dotted', linewidth=2)\n",
        "plt.xlabel('Average Player Time')\n",
        "plt.ylabel('Frequency')\n",
        "plt.title('Histogram of Average Player Time (seconds)')\n",
        "plt.show()\n",
        "print(f'Average time: {df_session[\"UserPlayTime\"].mean() / 60} minutes')"
      ],
      "metadata": {
        "id": "wruOxzEyfwT9"
      },
      "execution_count": null,
      "outputs": []
    },
    {
      "cell_type": "code",
      "source": [
        "df_completed = df_session[df_session['GameComplete'] == 1]\n",
        "plt.hist(df_completed['UserPlayTime'], bins=10)\n",
        "plt.axvline(x=df_completed['UserPlayTime'].mean(), color='red', linestyle='dotted', linewidth=2)\n",
        "plt.xlabel('Average Player Time (Completed)')\n",
        "plt.ylabel('Frequency')\n",
        "plt.title('Histogram of Average Player Time (seconds)')\n",
        "plt.show()\n",
        "print(f'Average time: {df_completed[\"UserPlayTime\"].mean() / 60} minutes')"
      ],
      "metadata": {
        "id": "dTxdTvEwgDXa"
      },
      "execution_count": null,
      "outputs": []
    },
    {
      "cell_type": "code",
      "source": [
        "df_played_well = df_session[df_session['TotalFails'] < 50 ]\n",
        "json_str = df_played_well['SkillSequenceCount-Event Sequence']\n",
        "parsed_json_object_1 = []\n",
        "for string in json_str:\n",
        "    parsed_json = json.loads(string)\n",
        "    parsed_json_object_1.append(parsed_json)\n",
        "\n",
        "total_skill = {\n",
        "    \"Research\": 0,\n",
        "    \"Resourceful\": 0,\n",
        "    \"Endurance\": 0,\n",
        "    \"Tech\": 0,\n",
        "    \"Social\": 0,\n",
        "    \"Trust\": 0\n",
        "}\n",
        "\n",
        "num_items = 0\n",
        "for sublist in parsed_json_object_1:\n",
        "    for obj in sublist:\n",
        "        skill_json = json.loads(obj[\"skill\"])\n",
        "        for key, value in skill_json.items():\n",
        "            total_skill[key] += value\n",
        "    num_items += 1\n",
        "\n",
        "average_scores = {key: value / num_items for key, value in total_skill.items()}\n",
        "\n",
        "labels = list(average_scores.keys())\n",
        "values = list(average_scores.values())\n",
        "categories = [*labels, labels[0]]\n",
        "values = [*values, values[0]]\n",
        "\n",
        "fig = go.Figure(\n",
        "    data=[\n",
        "        go.Scatterpolar(r=values, theta=categories, name='Average Score'),\n",
        "      ],\n",
        "    layout=go.Layout(\n",
        "        title=go.layout.Title(text='Attribute Comparison for Well Played Games'),\n",
        "        polar={'radialaxis': {'visible': True}},\n",
        "        showlegend=True\n",
        "    )\n",
        ")\n",
        "\n",
        "print(average_scores)\n",
        "fig"
      ],
      "metadata": {
        "id": "SvpRdJ2ol2HT"
      },
      "execution_count": null,
      "outputs": []
    },
    {
      "cell_type": "code",
      "source": [
        "json_str = df_completed['SkillSequenceCount-Event Sequence']\n",
        "parsed_json_objects = []\n",
        "for string in json_str:\n",
        "    parsed_json = json.loads(string)\n",
        "    parsed_json_objects.append(parsed_json)\n",
        "\n",
        "total_skill = {\n",
        "    \"Research\": 0,\n",
        "    \"Resourceful\": 0,\n",
        "    \"Endurance\": 0,\n",
        "    \"Tech\": 0,\n",
        "    \"Social\": 0,\n",
        "    \"Trust\": 0\n",
        "}\n",
        "\n",
        "num_items = 0\n",
        "for sublist in parsed_json_objects:\n",
        "    for obj in sublist:\n",
        "        skill_json = json.loads(obj[\"skill\"])\n",
        "        for key, value in skill_json.items():\n",
        "            total_skill[key] += value\n",
        "    num_items += 1\n",
        "\n",
        "average_scores = {key: value / num_items for key, value in total_skill.items()}\n",
        "\n",
        "labels = list(average_scores.keys())\n",
        "values = list(average_scores.values())\n",
        "categories = [*labels, labels[0]]\n",
        "values = [*values, values[0]]\n",
        "\n",
        "fig = go.Figure(\n",
        "    data=[\n",
        "        go.Scatterpolar(r=values, theta=categories, name='Average Score'),\n",
        "      ],\n",
        "    layout=go.Layout(\n",
        "        title=go.layout.Title(text='Attribute Comparison for Completed Games'),\n",
        "        polar={'radialaxis': {'visible': True}},\n",
        "        showlegend=True\n",
        "    )\n",
        ")\n",
        "\n",
        "print(average_scores)\n",
        "fig"
      ],
      "metadata": {
        "id": "cc6t8C-YqMti"
      },
      "execution_count": null,
      "outputs": []
    },
    {
      "cell_type": "code",
      "source": [
        "df_no_finish = df_session[df_session['GameComplete'] == 0]\n",
        "json_str = df_no_finish['SkillSequenceCount-Event Sequence']\n",
        "parsed_json_objects = []\n",
        "for string in json_str:\n",
        "    parsed_json = json.loads(string)\n",
        "    parsed_json_objects.append(parsed_json)\n",
        "\n",
        "total_skill = {\n",
        "    \"Research\": 0,\n",
        "    \"Resourceful\": 0,\n",
        "    \"Endurance\": 0,\n",
        "    \"Tech\": 0,\n",
        "    \"Social\": 0,\n",
        "    \"Trust\": 0\n",
        "}\n",
        "\n",
        "num_items = 0\n",
        "for sublist in parsed_json_objects:\n",
        "    for obj in sublist:\n",
        "        skill_json = json.loads(obj[\"skill\"])\n",
        "        for key, value in skill_json.items():\n",
        "            total_skill[key] += value\n",
        "    num_items += 1\n",
        "\n",
        "average_scores = {key: value / num_items for key, value in total_skill.items()}\n",
        "\n",
        "labels = list(average_scores.keys())\n",
        "values = list(average_scores.values())\n",
        "categories = [*labels, labels[0]]\n",
        "values = [*values, values[0]]\n",
        "\n",
        "fig = go.Figure(\n",
        "    data=[\n",
        "        go.Scatterpolar(r=values, theta=categories, name='Average Score'),\n",
        "      ],\n",
        "    layout=go.Layout(\n",
        "        title=go.layout.Title(text='Attribute Comparison for Games that were not Completed'),\n",
        "        polar={'radialaxis': {'visible': True}},\n",
        "        showlegend=True\n",
        "    )\n",
        ")\n",
        "\n",
        "print(average_scores)\n",
        "fig\n"
      ],
      "metadata": {
        "id": "uaQ-IRxRr2eD"
      },
      "execution_count": null,
      "outputs": []
    },
    {
      "cell_type": "code",
      "source": [
        "len(df_completed)"
      ],
      "metadata": {
        "id": "bJgQzQjxgEyV"
      },
      "execution_count": null,
      "outputs": []
    },
    {
      "cell_type": "code",
      "source": [
        "attributes = [\"Research\", \"Resourceful\", \"Endurance\", \"Tech\", \"Social\", \"Trust\"]\n",
        "final_values = []\n",
        "\n",
        "for sublist in parsed_json_object_1:\n",
        "    total_skill = {\n",
        "        \"Research\": 0,\n",
        "        \"Resourceful\": 0,\n",
        "        \"Endurance\": 0,\n",
        "        \"Tech\": 0,\n",
        "        \"Social\": 0,\n",
        "        \"Trust\": 0\n",
        "    }\n",
        "    for obj in sublist:\n",
        "        skill_json = json.loads(obj[\"skill\"])\n",
        "        for key, value in skill_json.items():\n",
        "            total_skill[key] += value\n",
        "\n",
        "    final_values.append(list(total_skill.values()))\n",
        "\n",
        "for i, attribute in enumerate(attributes):\n",
        "    plt.figure(i)\n",
        "    plt.hist([values[i] for values in final_values])\n",
        "    plt.title(attribute)\n",
        "    plt.xlabel(\"Value\")\n",
        "    plt.ylabel(\"Frequency\")\n",
        "    plt.title(f'Frequency of Attribute Scores (players that played well)')\n",
        "\n",
        "\n",
        "plt.show()"
      ],
      "metadata": {
        "id": "Bey9lpNJmi-H"
      },
      "execution_count": null,
      "outputs": []
    },
    {
      "cell_type": "code",
      "source": [
        "df_failure = df_session[df_session['TotalFails'] < 10]\n",
        "def bar_graph(df_1, df_2, level):\n",
        "  plt.figure(figsize=(5, 5))\n",
        "  plt.bar('Low Attribute', df_1.sum(), label='Low Attribute')\n",
        "  plt.bar('Out of Time', df_2.sum(), label='Out of Time')\n",
        "  plt.xlabel('Failure Type')\n",
        "  plt.ylabel('Count')\n",
        "  plt.title(f'Comparison of Failure Counts on Level {level}')\n",
        "  plt.legend()\n",
        "\n",
        "  plt.show()\n",
        "\n",
        "bar_graph(df_failure['lvl1_FailureCount-LowAttribute'], df_failure['lvl1_FailureCount-OutOfTime'], 1)\n",
        "bar_graph(df_failure['lvl2_FailureCount-LowAttribute'], df_failure['lvl2_FailureCount-OutOfTime'], 2)\n",
        "bar_graph(df_failure['lvl3_FailureCount-LowAttribute'], df_failure['lvl3_FailureCount-OutOfTime'], 3)\n",
        "bar_graph(df_failure['lvl4_FailureCount-LowAttribute'], df_failure['lvl4_FailureCount-OutOfTime'], 4)\n",
        "bar_graph(df_failure['lvl5_FailureCount-LowAttribute'], df_failure['lvl5_FailureCount-OutOfTime'], 5)"
      ],
      "metadata": {
        "id": "ddZbLaiPln66"
      },
      "execution_count": null,
      "outputs": []
    },
    {
      "cell_type": "code",
      "source": [
        "df_session[df_session['SkillSequenceCount-Event Sequence'] != '[]']"
      ],
      "metadata": {
        "id": "FCqBP-IHm1CE"
      },
      "execution_count": null,
      "outputs": []
    },
    {
      "cell_type": "code",
      "source": [
        "# choose which user you want to look at, change index at the end\n",
        "json_string = df_session['SkillSequenceCount-Event Sequence'][2]"
      ],
      "metadata": {
        "id": "sSWQD1JSoMr0"
      },
      "execution_count": null,
      "outputs": []
    },
    {
      "cell_type": "code",
      "source": [
        "data = json.loads(json_string)\n",
        "skill_names = [\"Research\", \"Resourceful\", \"Endurance\", \"Tech\", \"Social\", \"Trust\"]\n",
        "\n",
        "skill_data = {skill_name: {\"time\": [], \"level\": []} for skill_name in skill_names}\n",
        "\n",
        "cumulative_levels = {skill_name: 0.1 * i for i, skill_name in enumerate(skill_names)}\n",
        "\n",
        "for item in data:\n",
        "    time = parser.parse(item[\"time\"])\n",
        "    skill_values = json.loads(item[\"skill\"])\n",
        "\n",
        "    for skill_name, level in skill_values.items():\n",
        "        cumulative_levels[skill_name] += level\n",
        "        skill_data[skill_name][\"time\"].append(time)\n",
        "        skill_data[skill_name][\"level\"].append(cumulative_levels[skill_name])\n",
        "\n",
        "plt.figure(figsize=(15, 6))\n",
        "plt.title(\"Skill Progression Over Time\")\n",
        "plt.xlabel(\"Time\")\n",
        "plt.ylabel(\"Cumulative Skill Level\")\n",
        "\n",
        "for skill_name, skill_values in skill_data.items():\n",
        "    plt.plot(skill_values[\"time\"], skill_values[\"level\"], label=skill_name)\n",
        "\n",
        "plt.legend(loc=\"upper left\", bbox_to_anchor=(1, 1))\n",
        "plt.xticks(rotation=45)\n",
        "plt.tight_layout()\n",
        "plt.show()\n",
        "\n",
        "\n",
        "\n",
        "print(f'Final Scores: {cumulative_levels}')"
      ],
      "metadata": {
        "id": "c6XslCHPX-oZ"
      },
      "execution_count": null,
      "outputs": []
    },
    {
      "cell_type": "code",
      "source": [
        "file_path = 'JOURNALISM_20230601_to_20230630_30c2225_player-features.tsv'\n",
        "df = pd.read_csv(file_path, sep='\\t')\n",
        "df_completed_2 = df[df['GameComplete'] == True]\n",
        "df_storyscore = df[['lvl1_StoryScore', 'lvl2_StoryScore', 'lvl3_StoryScore', 'lvl4_StoryScore', 'lvl5_StoryScore', 'lvl6_StoryScore']]\n",
        "df_storyscore_complete = df_completed_2[['lvl1_StoryScore', 'lvl2_StoryScore', 'lvl3_StoryScore', 'lvl4_StoryScore', 'lvl5_StoryScore', 'lvl6_StoryScore']]\n",
        "\n",
        "df_storyalignment = df[['lvl1_StoryAlignment',\t'lvl2_StoryAlignment', 'lvl3_StoryAlignment',\t'lvl4_StoryAlignment',\t'lvl5_StoryAlignment',\t'lvl6_StoryAlignment']]\n",
        "df_storyalignment_complete = df_completed_2[['lvl1_StoryAlignment',\t'lvl2_StoryAlignment', 'lvl3_StoryAlignment',\t'lvl4_StoryAlignment',\t'lvl5_StoryAlignment',\t'lvl6_StoryAlignment']]\n",
        "\n",
        "fig, axes = plt.subplots(nrows=2, ncols=3, figsize=(15, 10))\n",
        "axes = axes.flatten()\n",
        "\n",
        "for i, column in enumerate(df_storyscore.columns):\n",
        "    axes[i].hist(df[column], bins=20, edgecolor='black')\n",
        "    axes[i].set_title(column)\n",
        "\n",
        "plt.tight_layout()\n",
        "plt.show()"
      ],
      "metadata": {
        "id": "8f2lsdi8MBJ7"
      },
      "execution_count": null,
      "outputs": []
    },
    {
      "cell_type": "code",
      "source": [
        "fig, axes = plt.subplots(nrows=2, ncols=3, figsize=(15, 10))\n",
        "axes = axes.flatten()\n",
        "\n",
        "for i, column in enumerate(df_storyscore_complete.columns):\n",
        "    axes[i].hist(df_storyscore_complete[column], bins=20, edgecolor='black')\n",
        "    axes[i].set_title(f'{column} Completed')\n",
        "\n",
        "plt.tight_layout()\n",
        "plt.show()"
      ],
      "metadata": {
        "id": "n_d1GeooKPf3"
      },
      "execution_count": null,
      "outputs": []
    },
    {
      "cell_type": "code",
      "source": [
        "fig, axes = plt.subplots(nrows=2, ncols=3, figsize=(15, 10))\n",
        "axes = axes.flatten()\n",
        "\n",
        "for i, column in enumerate(df_storyalignment.columns):\n",
        "    axes[i].hist(df[column], bins=20, edgecolor='black')\n",
        "    axes[i].set_title(column)\n",
        "\n",
        "plt.tight_layout()\n",
        "plt.show()"
      ],
      "metadata": {
        "id": "-YlFb1xO6Tpk"
      },
      "execution_count": null,
      "outputs": []
    },
    {
      "cell_type": "code",
      "source": [
        "fig, axes = plt.subplots(nrows=2, ncols=3, figsize=(15, 10))\n",
        "axes = axes.flatten()\n",
        "\n",
        "for i, column in enumerate(df_storyalignment_complete.columns):\n",
        "    axes[i].hist(df_storyalignment_complete[column], bins=20, edgecolor='black')\n",
        "    axes[i].set_title(f'{column} Completed')\n",
        "\n",
        "plt.tight_layout()\n",
        "plt.show()"
      ],
      "metadata": {
        "id": "LEzoUUdEKto5"
      },
      "execution_count": null,
      "outputs": []
    },
    {
      "cell_type": "code",
      "source": [
        "for i in range(1, 7):\n",
        "    column_name = f'lvl{i}_SnippetsSubmitted'\n",
        "    df[column_name] = df[column_name].apply(ast.literal_eval)"
      ],
      "metadata": {
        "id": "9NH3jgnL6pq5"
      },
      "execution_count": null,
      "outputs": []
    },
    {
      "cell_type": "code",
      "source": [
        "for i in range(1, 7):\n",
        "    column_name = f'lvl{i}_SnippetsSubmitted'\n",
        "    counter = Counter([snippet for snippet_list in df[column_name] for snippet in snippet_list])\n",
        "    most_common = counter.most_common(10)\n",
        "\n",
        "    print(f\"Most common snippets in {column_name}:\")\n",
        "    for snippet, count in most_common:\n",
        "        print(f\"{snippet}: {count}\")\n",
        "    print()"
      ],
      "metadata": {
        "id": "gWrpj99SAtIw"
      },
      "execution_count": null,
      "outputs": []
    },
    {
      "cell_type": "code",
      "source": [
        "for i in range(1, 7):\n",
        "    column_name = f'lvl{i}_LevelCompleted'\n",
        "    df[column_name] = df[column_name].astype(int)\n",
        "    counter = df[column_name].value_counts()\n",
        "    print(counter)\n",
        "\n",
        "    print()"
      ],
      "metadata": {
        "id": "9vbPEgJYL_h1"
      },
      "execution_count": null,
      "outputs": []
    },
    {
      "cell_type": "code",
      "source": [
        "# amount of people that complete the game\n",
        "len(df_storyalignment_complete)"
      ],
      "metadata": {
        "id": "WSzUMYTbL1J_"
      },
      "execution_count": null,
      "outputs": []
    },
    {
      "cell_type": "code",
      "source": [
        "target_cols = ['lvl1_LevelCompleted', 'lvl2_LevelCompleted', 'lvl3_LevelCompleted', 'lvl4_LevelCompleted', 'lvl5_LevelCompleted']\n",
        "\n",
        "# Count the number of 'yes' and 'no' values for each column\n",
        "counts = df[target_cols].apply(pd.Series.value_counts)\n",
        "print(counts)\n",
        "# Create a bar plot\n",
        "fig, ax = plt.subplots(figsize=(6, 6))\n",
        "counts.T.plot(kind='bar', ax=ax)\n",
        "# Modify the legend labels\n",
        "legend_labels = ['no', 'yes']\n",
        "ax.legend(labels=legend_labels)\n",
        "\n",
        "# Add labels and title\n",
        "ax.set_xlabel('Completed Levels')\n",
        "ax.set_ylabel('Count')\n",
        "ax.set_title('Number of Completed Levels')\n",
        "\n",
        "plt.show()"
      ],
      "metadata": {
        "id": "-a0oG-XXeXlF"
      },
      "execution_count": null,
      "outputs": []
    },
    {
      "cell_type": "code",
      "source": [
        "len(df['SessionCount'].unique())\n",
        "session_df = df[df['SessionCount'] > 1]\n",
        "equal_one = df[df['SessionCount'] == 1]\n",
        "print(f'{len(equal_one)} out of {len(df)} players had only one session')\n",
        "\n",
        "plt.hist(session_df['SessionCount'], bins=12, edgecolor='black')\n",
        "plt.xlabel('Number of Sessions')\n",
        "plt.ylabel('Frequency')\n",
        "plt.title('Histogram of Player Sessions (Sessions > 1)')\n",
        "plt.show()"
      ],
      "metadata": {
        "id": "hneJVeD3ikD-"
      },
      "execution_count": null,
      "outputs": []
    },
    {
      "cell_type": "code",
      "source": [
        "len(df_completed_2['SessionCount'].unique())\n",
        "session_df = df_completed_2[df_completed_2['SessionCount'] > 1]\n",
        "equal_one = df_completed_2[df_completed_2['SessionCount'] == 1]\n",
        "print(f'{len(equal_one)} out of {len(df_completed_2)} players had only one session')\n",
        "\n",
        "plt.hist(df_completed_2['SessionCount'], bins=12, edgecolor='black')\n",
        "plt.xlabel('Number of Sessions')\n",
        "plt.ylabel('Frequency')\n",
        "plt.title('Histogram of Player Sessions (Sessions > 1)')\n",
        "plt.show()\n"
      ],
      "metadata": {
        "id": "indYfBiJoq6Z"
      },
      "execution_count": null,
      "outputs": []
    },
    {
      "cell_type": "code",
      "source": [
        "df_lvl1 = df[df['lvl1_LevelCompleted'] == 1]\n",
        "df_lvl2 = df[df['lvl2_LevelCompleted'] == 1]\n",
        "df_lvl3 = df[df['lvl3_LevelCompleted'] == 1]\n",
        "df_lvl4 = df[df['lvl4_LevelCompleted'] == 1]\n",
        "df_lvl5 = df[df['lvl5_LevelCompleted'] == 1]"
      ],
      "metadata": {
        "id": "f7Ga5wOvgRnB"
      },
      "execution_count": null,
      "outputs": []
    },
    {
      "cell_type": "code",
      "source": [
        "def calculate_counts(data_frame, attribute_column):\n",
        "    attribute_counts = {}\n",
        "    for group in data_frame[attribute_column]:\n",
        "        group = ast.literal_eval(group)\n",
        "        for value in group:\n",
        "            if value in attribute_counts:\n",
        "                attribute_counts[value] += 1\n",
        "            else:\n",
        "                attribute_counts[value] = 1\n",
        "    return attribute_counts\n",
        "\n",
        "data_frames = {\n",
        "    \"Completed Level 1\": df_lvl1,\n",
        "    \"Completed Level 2\": df_lvl2,\n",
        "    \"Completed Level 3\": df_lvl3,\n",
        "    \"Completed Level 4\": df_lvl4,\n",
        "    \"Completed Level 5\": df_lvl5,\n",
        "    \"Finished the Game\": df_completed\n",
        "}\n",
        "\n",
        "for name, data_frame in data_frames.items():\n",
        "    top_counts = calculate_counts(data_frame, \"TopAttribute-Names\")\n",
        "    worst_counts = calculate_counts(data_frame, \"WorstAttribute-Names\")\n",
        "\n",
        "    sorted_keys = sorted(top_counts.keys())\n",
        "    sorted_dict1 = {key: top_counts[key] for key in sorted_keys}\n",
        "    sorted_dict2 = {key: worst_counts[key] for key in sorted_keys}\n",
        "    x_label = sorted_dict1.keys()\n",
        "    worst_values = list(sorted_dict2.values())\n",
        "    top_values = list(sorted_dict1.values())\n",
        "\n",
        "    plt.figure()\n",
        "    plt.bar(x_label, top_values, color='r', label='Worst Values')\n",
        "    plt.bar(x_label, worst_values, bottom=top_values, color='b', label='Top Values')\n",
        "\n",
        "    plt.xlabel('Attributes')\n",
        "    plt.title('Stacked Attributes - ' + name)\n",
        "    plt.legend()"
      ],
      "metadata": {
        "id": "PfwKq-wigWEN"
      },
      "execution_count": null,
      "outputs": []
    },
    {
      "cell_type": "code",
      "source": [
        "json_str = df_completed_2['SkillSequenceCount-Event Sequence']\n",
        "parsed_json_objects = []\n",
        "for string in json_str:\n",
        "    parsed_json = json.loads(string)\n",
        "    parsed_json_objects.append(parsed_json)\n",
        "\n",
        "total_skill = {\n",
        "    \"Research\": 0,\n",
        "    \"Resourceful\": 0,\n",
        "    \"Endurance\": 0,\n",
        "    \"Tech\": 0,\n",
        "    \"Social\": 0,\n",
        "    \"Trust\": 0\n",
        "}\n",
        "\n",
        "num_items = 0\n",
        "for sublist in parsed_json_objects:\n",
        "    for obj in sublist:\n",
        "        skill_json = json.loads(obj[\"skill\"])\n",
        "        for key, value in skill_json.items():\n",
        "            total_skill[key] += value\n",
        "    num_items += 1\n",
        "\n",
        "average_scores = {key: value / num_items for key, value in total_skill.items()}\n",
        "\n",
        "labels = list(average_scores.keys())\n",
        "values = list(average_scores.values())\n",
        "categories = [*labels, labels[0]]\n",
        "values = [*values, values[0]]\n",
        "\n",
        "fig = go.Figure(\n",
        "    data=[\n",
        "        go.Scatterpolar(r=values, theta=categories, name='Average Score'),\n",
        "      ],\n",
        "    layout=go.Layout(\n",
        "        title=go.layout.Title(text='Attribute Comparison for Completed Games'),\n",
        "        polar={'radialaxis': {'visible': True}},\n",
        "        showlegend=True\n",
        "    )\n",
        ")\n",
        "\n",
        "print(average_scores)\n",
        "fig"
      ],
      "metadata": {
        "id": "IOtoBQA5DRqD"
      },
      "execution_count": null,
      "outputs": []
    }
  ]
}