{
 "cells": [
  {
   "cell_type": "code",
   "execution_count": 1,
   "id": "68f415e0",
   "metadata": {},
   "outputs": [],
   "source": [
    "import pandas as pd\n",
    "import numpy as np\n",
    "pd.set_option('display.max_rows', None)\n",
    "\n",
    "# Provide the file path to the CSV file\n",
    "old = 'aqualab_script.csv'\n",
    "new = 'LocExport_new.csv'\n",
    "\n",
    "# Read the CSV file into a DataFrame\n",
    "new_script = pd.read_csv(new)\n",
    "old_script = pd.read_csv(old)\n",
    "old_script['Español '].fillna(False)\n",
    "false_list =pd.isna(old_script['Español '])\n",
    "count_false = (false_list == True).sum()"
   ]
  },
  {
   "cell_type": "code",
   "execution_count": 2,
   "id": "6562ce37",
   "metadata": {},
   "outputs": [
    {
     "data": {
      "text/plain": [
       "334"
      ]
     },
     "execution_count": 2,
     "metadata": {},
     "output_type": "execute_result"
    }
   ],
   "source": [
    "len(new_script) - len(old_script) + count_false"
   ]
  },
  {
   "cell_type": "code",
   "execution_count": 3,
   "id": "1eddc433",
   "metadata": {},
   "outputs": [],
   "source": [
    "merged_df_1 = pd.merge(new_script,\n",
    "                     old_script,\n",
    "                     on=[\"Code\"],\n",
    "                     how=\"left\",\n",
    "                     indicator=True)"
   ]
  },
  {
   "cell_type": "code",
   "execution_count": 4,
   "id": "3c86da2d",
   "metadata": {},
   "outputs": [],
   "source": [
    "new_df = merged_df_1[['Line Name_x', 'Code', 'Español ', 'English_x', 'Code-switching']]\n",
    "new_df = new_df.rename(columns={'Line Name_x': 'Line Name', 'Español ': 'Español', 'English_x': 'English'})\n",
    "new_df['Español'].fillna(False)\n",
    "false_list =pd.notnull(new_df['Español'])\n",
    "new_df['ToDo'] = false_list"
   ]
  },
  {
   "cell_type": "code",
   "execution_count": 5,
   "id": "b21d59f8",
   "metadata": {},
   "outputs": [
    {
     "data": {
      "text/plain": [
       "'8.160525137997912% of total translations left'"
      ]
     },
     "execution_count": 5,
     "metadata": {},
     "output_type": "execute_result"
    }
   ],
   "source": [
    "count_false = (new_df['ToDo'] == False).sum()\n",
    "len_df = len(new_df)\n",
    "percent = (count_false/len_df) * 100\n",
    "f'{percent}% of total translations left'"
   ]
  },
  {
   "cell_type": "code",
   "execution_count": 6,
   "id": "2da7d810",
   "metadata": {},
   "outputs": [],
   "source": [
    "new_df.to_csv('updated.csv', index=False)"
   ]
  },
  {
   "cell_type": "code",
   "execution_count": 7,
   "id": "3b78709e",
   "metadata": {},
   "outputs": [],
   "source": [
    "# new_csv = new_script[['Line Name', 'Code', 'English']]\n",
    "# old_csv = old_script[['Line Name', 'Code', 'English', 'Español ', 'Code-switching']]\n",
    "# merged_df = pd.merge(new_script[['Line Name', 'Code', 'English']],\n",
    "#                      old_script[['Code', 'English', 'Español ', 'Code-switching']],\n",
    "#                      on=[\"Code\", \"English\"],\n",
    "#                      how=\"left\",\n",
    "#                      indicator=True)\n",
    "# merged_df['Translation'] = merged_df['Español '].fillna(False)\n",
    "# merged_df.drop(columns=[\"_merge\"], inplace=True)\n",
    "# merged_df.drop(columns=['Español '], inplace = True)\n",
    "# len(merged_df[merged_df['Translation'] == False])\n",
    "# merged_df"
   ]
  }
 ],
 "metadata": {
  "kernelspec": {
   "display_name": "Python 3",
   "language": "python",
   "name": "python3"
  },
  "language_info": {
   "codemirror_mode": {
    "name": "ipython",
    "version": 3
   },
   "file_extension": ".py",
   "mimetype": "text/x-python",
   "name": "python",
   "nbconvert_exporter": "python",
   "pygments_lexer": "ipython3",
   "version": "3.10.4"
  }
 },
 "nbformat": 4,
 "nbformat_minor": 5
}
